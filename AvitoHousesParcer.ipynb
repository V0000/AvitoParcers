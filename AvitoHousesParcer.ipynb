{
  "nbformat": 4,
  "nbformat_minor": 0,
  "metadata": {
    "colab": {
      "name": "AvitoHousesParcer.ipynb",
      "provenance": [],
      "collapsed_sections": [],
      "mount_file_id": "17F4PvCY9i3pcyVNfWHKDJMIfMbQrxDGL",
      "authorship_tag": "ABX9TyNtWWYImW+0Xo/gC+AsMtHG",
      "include_colab_link": true
    },
    "kernelspec": {
      "name": "python3",
      "display_name": "Python 3"
    }
  },
  "cells": [
    {
      "cell_type": "markdown",
      "metadata": {
        "id": "view-in-github",
        "colab_type": "text"
      },
      "source": [
        "<a href=\"https://colab.research.google.com/github/V0000/AvitoParcers/blob/main/AvitoHousesParcer.ipynb\" target=\"_parent\"><img src=\"https://colab.research.google.com/assets/colab-badge.svg\" alt=\"Open In Colab\"/></a>"
      ]
    },
    {
      "cell_type": "code",
      "metadata": {
        "id": "Deb13r38V3CG"
      },
      "source": [
        "!pip install selenium\n",
        "!apt-get update \n",
        "!apt install chromium-chromedriver"
      ],
      "execution_count": null,
      "outputs": []
    },
    {
      "cell_type": "code",
      "metadata": {
        "id": "oxlu-F2kV_5e"
      },
      "source": [
        "#set global variable for chromedriver\n",
        "import sys\n",
        "sys.path.insert(0,'/usr/lib/chromium-browser/chromedriver')"
      ],
      "execution_count": null,
      "outputs": []
    },
    {
      "cell_type": "code",
      "metadata": {
        "id": "xE8gmqWsoM55"
      },
      "source": [
        "!pip install dateparser"
      ],
      "execution_count": null,
      "outputs": []
    },
    {
      "cell_type": "code",
      "metadata": {
        "id": "wTINzzCfWCTk"
      },
      "source": [
        "from bs4 import BeautifulSoup\n",
        "import pandas as pd\n",
        "import time\n",
        "import random\n",
        "from datetime import datetime\n",
        "import dateparser\n",
        "from tqdm import tqdm_notebook\n",
        "from selenium import webdriver\n",
        "#from selenium.webdriver.common.proxy import Proxy, ProxyType\n",
        "import IPython"
      ],
      "execution_count": null,
      "outputs": []
    },
    {
      "cell_type": "code",
      "metadata": {
        "id": "y0hAhPWHrkA3"
      },
      "source": [
        "#set maximum width in characters of a columns\n",
        "pd.set_option('display.max_colwidth', -1)"
      ],
      "execution_count": null,
      "outputs": []
    },
    {
      "cell_type": "code",
      "metadata": {
        "id": "3jTNfwWyMJVV"
      },
      "source": [
        "root_url = 'https://www.avito.ru'\n",
        "city = 'yablonovskiy' #krasnodar, krasnodarskiy_kray\n",
        "type = 'doma_dachi_kottedzhi' #kvartiry, zemelnye_uchastki\n",
        "main_url = root_url + '/' + city + '/' + type + '?proprofile=1&p='\n",
        "page = 1\n",
        "PROXY = '181.113.35.6:41116'\n",
        "max_delay = 5 #delay between pages in seconds to simulate a real user"
      ],
      "execution_count": 1,
      "outputs": []
    },
    {
      "cell_type": "code",
      "metadata": {
        "id": "QTICncgLWEUX",
        "colab": {
          "base_uri": "https://localhost:8080/"
        },
        "outputId": "bac39825-a9a1-444c-81fa-5dae338069fc"
      },
      "source": [
        "chrome_options = webdriver.ChromeOptions()\n",
        "chrome_options.add_argument('--headless')\n",
        "chrome_options.add_argument('--no-sandbox')\n",
        "chrome_options.add_argument('--disable-dev-shm-usage')\n",
        "#chrome_options.add_argument('--proxy-server=%s' % PROXY)\n",
        "\n",
        "driver = webdriver.Chrome('chromedriver', chrome_options=chrome_options)"
      ],
      "execution_count": null,
      "outputs": [
        {
          "output_type": "stream",
          "text": [
            "/usr/local/lib/python3.6/dist-packages/ipykernel_launcher.py:7: DeprecationWarning: use options instead of chrome_options\n",
            "  import sys\n"
          ],
          "name": "stderr"
        }
      ]
    },
    {
      "cell_type": "code",
      "metadata": {
        "id": "k1UYVU-8fU13"
      },
      "source": [
        "#IP check\n",
        "#driver.get('https://myip.ru/')\n",
        "#IPython.display.HTML(data=driver.page_source)"
      ],
      "execution_count": null,
      "outputs": []
    },
    {
      "cell_type": "code",
      "metadata": {
        "id": "SH2ddfjMRb9x"
      },
      "source": [
        "#main page display check\n",
        "#driver.get(main_url + str(page))\n",
        "#IPython.display.HTML(data=driver.page_source)"
      ],
      "execution_count": null,
      "outputs": []
    },
    {
      "cell_type": "code",
      "metadata": {
        "id": "AHdK2gBjSgKc"
      },
      "source": [
        "#collect of all urls\n",
        "\n",
        "all_urls = pd.DataFrame()\n",
        "start_time = time.time()\n",
        "\n",
        "while True:\n",
        "  driver.get(main_url + str(page))\n",
        "  time.sleep(random.uniform(0, max_delay))\n",
        "  current_page = BeautifulSoup(driver.page_source, 'html.parser')\n",
        "  links_on_page = current_page.findAll('a', attrs = {'data-marker':'item-title'})\n",
        "\n",
        "  if len(links_on_page) == 0: \n",
        "    break\n",
        "\n",
        "  for link in links_on_page:\n",
        "    all_urls = all_urls.append({'url': link.get('href')}, ignore_index=True)\n",
        "  \n",
        "  print('current page: ',page, '    finded urls: ', len(links_on_page), '    total urls: ', len(all_urls), '    spended time: ', time.time() - start_time)\n",
        "  page += 1\n",
        "\n",
        "page = 1"
      ],
      "execution_count": null,
      "outputs": []
    },
    {
      "cell_type": "code",
      "metadata": {
        "id": "-j-ePvdpXyQN"
      },
      "source": [
        "all_urls = all_urls.drop_duplicates()\n",
        "#all_urls"
      ],
      "execution_count": null,
      "outputs": []
    },
    {
      "cell_type": "code",
      "metadata": {
        "id": "xg7hZBayapm9"
      },
      "source": [
        "all_urls.to_csv(r'/content/drive/My Drive/Colab Notebooks/data/avitoHousesUrls.csv', index=False)  "
      ],
      "execution_count": null,
      "outputs": []
    },
    {
      "cell_type": "code",
      "metadata": {
        "id": "ggQo5ujiMLHX"
      },
      "source": [
        "#all_urls = pd.read_csv(r'/content/drive/My Drive/Colab Notebooks/data/avitoHousesUrls.csv')\n",
        "#all_urls"
      ],
      "execution_count": null,
      "outputs": []
    },
    {
      "cell_type": "code",
      "metadata": {
        "id": "ElV1GkdFh4NV"
      },
      "source": [
        "houses_data = pd.DataFrame({'id':[],'title':[],'price':[],'seller':[],'date_of_public':[], \n",
        "                                         'views':[],'house_area':[],'walls_material':[],'land_area':[],'type':[],\n",
        "                                         'distance_to_city':[],'floors':[],'adress':[],'url':[]})\n",
        "#houses_data"
      ],
      "execution_count": null,
      "outputs": []
    },
    {
      "cell_type": "code",
      "metadata": {
        "id": "0THoHzTBiKxy"
      },
      "source": [
        "start_time = time.time()\n",
        "for part_url in all_urls['url']:\n",
        "  time.sleep(random.uniform(0, max_delay))\n",
        "  driver.get(root_url + part_url)\n",
        "  current_page = BeautifulSoup(driver.page_source, 'html.parser')\n",
        "\n",
        "  try:\n",
        "    id = int(current_page.find(attrs = {'data-marker':'item-view/item-id'}).get_text()[2:])\n",
        "  except:\n",
        "    id = 0\n",
        "  try:\n",
        "    title = current_page.find(attrs = {'class':'title-info-title-text'}).get_text()\n",
        "  except:\n",
        "    title = None\n",
        "  try:\n",
        "    price = float(current_page.find(attrs = {'class':'js-item-price'}).get_text().replace(\" \", \"\"))\n",
        "  except:\n",
        "    price = 0\n",
        "  try:\n",
        "    seller = current_page.find(attrs = {'data-marker':'seller-info/label'}).get_text()\n",
        "  except:\n",
        "    seller = None\n",
        "  try:\n",
        "    date_of_public = dateparser.parse(current_page.find(attrs = {'class':'title-info-metadata-item-redesign'}).get_text().replace(\"\\n\", \"\").replace(\"в \", \"\").strip()) \n",
        "  except:\n",
        "    date_of_public = None\n",
        "  try:\n",
        "    views = int(current_page.find(attrs = {'class':'title-info-metadata-views'}).get_text().split('(')[0].strip())\n",
        "  except:\n",
        "    views = 0\n",
        "  try:\n",
        "    house_area = float(current_page.findAll(attrs = {'class':'item-params-list-item'})[0].get_text().split('(')[0].replace(\"\\xa0м²\", \"\").replace(\"Площадь дома: \", \"\").strip())\n",
        "  except:\n",
        "    house_area = 0\n",
        "  try:\n",
        "    walls_material = current_page.findAll(attrs = {'class':'item-params-list-item'})[3].get_text().replace(\" Материал стен: \", \"\").strip()\n",
        "  except:\n",
        "    walls_material = None\n",
        "  try:\n",
        "    land_area = float(current_page.findAll(attrs = {'class':'item-params-list-item'})[1].get_text().replace(\" Площадь участка: \", \"\").replace(\"\\xa0сот. \", \"\").replace(\"\\xa0сот. \", \"\"))\n",
        "  except:\n",
        "    land_area = 0\n",
        "  try:\n",
        "    type = current_page.findAll(attrs = {'class':'item-params-list-item'})[4].get_text().replace(\" Вид объекта: \", \"\").strip()\n",
        "  except:\n",
        "    type = None\n",
        "  try:\n",
        "    distance_to_city = current_page.findAll(attrs = {'class':'item-params-list-item'})[2].get_text().replace(\" Расстояние до города: \", \"\").strip()\n",
        "  except:\n",
        "    distance_to_city = None\n",
        "  try:\n",
        "    floors = int(current_page.findAll(attrs = {'class':'item-params-list-item'})[5].get_text().replace(\" Этажей в доме: \", \"\").strip())\n",
        "  except :\n",
        "    floors = 0\n",
        "  try:\n",
        "    adress = current_page.find(attrs = {'class':'item-address__string'}).get_text().replace(\"\\n\", \"\").strip()\n",
        "  except:\n",
        "    adress = None\n",
        "  url = str(root_url + part_url)\n",
        "\n",
        "  temp = {'id':id,'title':title,'price':price,'seller':seller,'date_of_public':date_of_public, \\\n",
        "                                          'views':views,'house_area':house_area,'walls_material':walls_material,'land_area':land_area,'type':type,\\\n",
        "                                          'distance_to_city':distance_to_city,'floors':floors,'adress':adress,'url':url}\n",
        "  houses_data = houses_data.append(temp, ignore_index=True)\n",
        "  print('count: ',len(houses_data), '       spended time: ', (time.time() - start_time)/60, '         title: ', title)\n",
        "houses_data.to_csv(r'/content/drive/My Drive/Colab Notebooks/data/AllAvitoHouses.csv', index=False)"
      ],
      "execution_count": null,
      "outputs": []
    },
    {
      "cell_type": "code",
      "metadata": {
        "id": "J4JzUkeKrS7T"
      },
      "source": [
        "#houses_data = pd.read_csv(r'/content/drive/My Drive/Colab Notebooks/data/AllAvitoHouses.csv')\n",
        "#all_urls = pd.read_csv(r'/content/drive/My Drive/Colab Notebooks/data/avitoHousesUrls.csv')\n",
        "#houses_data.info()"
      ],
      "execution_count": null,
      "outputs": []
    },
    {
      "cell_type": "code",
      "metadata": {
        "id": "Oy06RJJPrxH0"
      },
      "source": [
        "houses_data['Price_for_meter_LAND'] = houses_data.price/houses_data.land_area"
      ],
      "execution_count": null,
      "outputs": []
    },
    {
      "cell_type": "code",
      "metadata": {
        "id": "fhAispO2r3Rr"
      },
      "source": [
        "houses_data.loc[(houses_data.price > 3000000) & (houses_data.price < 4500000)&(houses_data.seller != 'Агентство')].sort_values('Price_for_meter_LAND').head(20)"
      ],
      "execution_count": null,
      "outputs": []
    }
  ]
}